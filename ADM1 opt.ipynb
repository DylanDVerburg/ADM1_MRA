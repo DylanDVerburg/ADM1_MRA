{
 "cells": [
  {
   "cell_type": "code",
   "execution_count": 1,
   "metadata": {},
   "outputs": [],
   "source": [
    "import numpy as np\n",
    "import pandas as pd\n",
    "import matplotlib.pyplot as plt\n",
    "\n",
    "from ADM1_class import ADM1_instance"
   ]
  },
  {
   "cell_type": "code",
   "execution_count": 2,
   "metadata": {},
   "outputs": [],
   "source": [
    "#some random plot function, which should be able to plot everything I need\n",
    "def plot(instance, results, t, flag_list = []):\n",
    "    #possible: biomass, gasses, diluted, all\n",
    "        solu_index = None\n",
    "        if(flag_list == 'biomass'):\n",
    "            solu_index = range(17,27)\n",
    "        if(flag_list == 'CH4'):\n",
    "            solu_index = [4]\n",
    "        \n",
    "        start_index = len(t) - len(results)\n",
    "        \n",
    "        plt.figure()\n",
    "        plt.title(f'Microbial species presumed to exist on Mars at {instance.T_ad}K.')\n",
    "        for i in results.keys()[solu_index]:    \n",
    "            plt.plot(t[start_index:], results.loc[:,i], label = i)\n",
    "        plt.ylabel(\"Biomass [gCOD/L]\")\n",
    "        plt.xlabel(\"time [d]\")\n",
    "        plt.legend()\n",
    "        \n",
    "def dilution(instance, data_simulation, data_observation, t_simulation, t_observation):\n",
    "    #other process producing baseline methane\n",
    "    #simple dilution using a half sphere to compare the found concentration to the simulated concentration a distance away from the source\n",
    "    v1 = instance.V_gas \n",
    "    c1 = data_simulation['P ch4'].max() #-  data_simulation['P ch4'].min() #amplitude of this data\n",
    "    c1_t = t_simulation[data_simulation[data_simulation['P ch4'] == data_simulation['P ch4'].max()].index.values]#time of maximum simulated data\n",
    "    \n",
    "    c2 = max(data_observation)# - min(data_observation) #amplitude of this data\n",
    "    c2_t = t_observation[data_observation.index(max(data_observation))] #index of maximum observed data\n",
    "    \n",
    "    r = ((3 * c1 * v1) /( 8* np.pi * c2))**(1/3) #calculate distance based on half dome dilution\n",
    "    v2 = r**3 * 8/3 * np.pi #volume of second half sphere used to recalculate other gas concentrations\n",
    "     \n",
    "    #time shift\n",
    "    time_shift = abs(c1_t - c2_t) #this calculated the difference in time between the peaks of the observed and measured data\n",
    "    \n",
    "    new_data_simulation = data_simulation * (v1/v2) #calculate other gas concentrations\n",
    "    \n",
    "    return new_data_simulation, r, time_shift\n",
    "\n",
    "def fit(observed_data_x, observed_data_y, expected_data_x, expected_data_y):\n",
    "    #observed is from simulation\n",
    "    #expected is base truth\n",
    "    observed_data_x = np.array(observed_data_x) \n",
    "    observed_data_y = np.array(observed_data_y) \n",
    "    expected_data_x = np.array(expected_data_x) \n",
    "    expected_data_y = np.array(expected_data_y)\n",
    "\n",
    "    dof = -1\n",
    "    chi_squared = 0\n",
    "    for i in (expected_data_x):\n",
    "        a = observed_data_y[np.where(observed_data_x == i)[0][0]]\n",
    "        b = expected_data_y[np.where(expected_data_x == i)[0][0]]\n",
    "        \n",
    "        dof +=1\n",
    "        chi_squared += (a - b)**2 / b\n",
    "    \n",
    "    return chi_squared, dof"
   ]
  },
  {
   "cell_type": "code",
   "execution_count": 3,
   "metadata": {},
   "outputs": [
    {
     "name": "stdout",
     "output_type": "stream",
     "text": [
      "{ |           }\n"
     ]
    },
    {
     "ename": "KeyboardInterrupt",
     "evalue": "",
     "output_type": "error",
     "traceback": [
      "\u001b[1;31m---------------------------------------------------------------------------\u001b[0m",
      "\u001b[1;31mKeyboardInterrupt\u001b[0m                         Traceback (most recent call last)",
      "\u001b[1;32m<ipython-input-3-8bcfddf8768e>\u001b[0m in \u001b[0;36m<module>\u001b[1;34m\u001b[0m\n\u001b[0;32m      1\u001b[0m \u001b[0mmars\u001b[0m \u001b[1;33m=\u001b[0m \u001b[0mADM1_instance\u001b[0m\u001b[1;33m(\u001b[0m\u001b[0mT_ad\u001b[0m \u001b[1;33m=\u001b[0m \u001b[1;36m298.15\u001b[0m\u001b[1;33m,\u001b[0m \u001b[0mV_liq\u001b[0m \u001b[1;33m=\u001b[0m \u001b[1;36m3400\u001b[0m\u001b[1;33m,\u001b[0m \u001b[0mV_gas\u001b[0m \u001b[1;33m=\u001b[0m \u001b[1;36m300\u001b[0m\u001b[1;33m,\u001b[0m \u001b[0mp_atm\u001b[0m \u001b[1;33m=\u001b[0m \u001b[1;36m1.013\u001b[0m\u001b[1;33m,\u001b[0m \u001b[0mq_ad\u001b[0m \u001b[1;33m=\u001b[0m \u001b[1;36m0\u001b[0m\u001b[1;33m)\u001b[0m\u001b[1;33m\u001b[0m\u001b[1;33m\u001b[0m\u001b[0m\n\u001b[1;32m----> 2\u001b[1;33m \u001b[0msolution\u001b[0m\u001b[1;33m,\u001b[0m \u001b[0mgasses\u001b[0m\u001b[1;33m,\u001b[0m \u001b[0mt\u001b[0m \u001b[1;33m=\u001b[0m \u001b[0mmars\u001b[0m\u001b[1;33m.\u001b[0m\u001b[0mdyn_sim\u001b[0m\u001b[1;33m(\u001b[0m\u001b[1;36m20.0\u001b[0m\u001b[1;33m,\u001b[0m \u001b[0mresolution\u001b[0m \u001b[1;33m=\u001b[0m \u001b[1;36m100\u001b[0m\u001b[1;33m)\u001b[0m \u001b[1;31m#generate results from simulation, [gCOD/L], [Bar], [days]\u001b[0m\u001b[1;33m\u001b[0m\u001b[1;33m\u001b[0m\u001b[0m\n\u001b[0m",
      "\u001b[1;32m~\\Desktop\\all_is\\TU\\year_4\\Thesis\\models, data etc\\Git ADM1 MRA\\ADM1_MRA\\ADM1_class.py\u001b[0m in \u001b[0;36mdyn_sim\u001b[1;34m(self, t_end, file_name, batch_reactor, solvermethod, resolution)\u001b[0m\n\u001b[0;32m    423\u001b[0m \u001b[1;33m\u001b[0m\u001b[0m\n\u001b[0;32m    424\u001b[0m             \u001b[1;31m# Solve DAE states\u001b[0m\u001b[1;33m\u001b[0m\u001b[1;33m\u001b[0m\u001b[1;33m\u001b[0m\u001b[0m\n\u001b[1;32m--> 425\u001b[1;33m             \u001b[0mS_va_ion\u001b[0m\u001b[1;33m,\u001b[0m \u001b[0mS_bu_ion\u001b[0m\u001b[1;33m,\u001b[0m \u001b[0mS_pro_ion\u001b[0m\u001b[1;33m,\u001b[0m \u001b[0mS_ac_ion\u001b[0m\u001b[1;33m,\u001b[0m \u001b[0mS_hco3_ion\u001b[0m\u001b[1;33m,\u001b[0m \u001b[0mS_nh3\u001b[0m\u001b[1;33m,\u001b[0m \u001b[0mS_H_ion\u001b[0m\u001b[1;33m,\u001b[0m \u001b[0mpH\u001b[0m\u001b[1;33m,\u001b[0m \u001b[0mp_gas_h2\u001b[0m\u001b[1;33m,\u001b[0m \u001b[0mS_h2\u001b[0m\u001b[1;33m,\u001b[0m \u001b[0mS_nh4_ion\u001b[0m\u001b[1;33m,\u001b[0m \u001b[0mS_co2\u001b[0m\u001b[1;33m,\u001b[0m \u001b[0mS_HS_ion\u001b[0m \u001b[1;33m=\u001b[0m \u001b[0mself\u001b[0m\u001b[1;33m.\u001b[0m\u001b[0mDAESolve\u001b[0m\u001b[1;33m(\u001b[0m\u001b[0mvals\u001b[0m\u001b[1;33m)\u001b[0m\u001b[1;33m\u001b[0m\u001b[1;33m\u001b[0m\u001b[0m\n\u001b[0m\u001b[0;32m    426\u001b[0m \u001b[1;33m\u001b[0m\u001b[0m\n\u001b[0;32m    427\u001b[0m             \u001b[1;31m# Algebraic equations\u001b[0m\u001b[1;33m\u001b[0m\u001b[1;33m\u001b[0m\u001b[1;33m\u001b[0m\u001b[0m\n",
      "\u001b[1;32m~\\Desktop\\all_is\\TU\\year_4\\Thesis\\models, data etc\\Git ADM1 MRA\\ADM1_MRA\\ADM1_class.py\u001b[0m in \u001b[0;36mDAESolve\u001b[1;34m(self, state_values)\u001b[0m\n\u001b[0;32m    359\u001b[0m             \u001b[0mRho_7\u001b[0m \u001b[1;33m=\u001b[0m \u001b[0mself\u001b[0m\u001b[1;33m.\u001b[0m\u001b[0mStoichiometric_parameters\u001b[0m\u001b[1;33m[\u001b[0m\u001b[1;34m'k_m_fa'\u001b[0m\u001b[1;33m]\u001b[0m \u001b[1;33m*\u001b[0m \u001b[1;33m(\u001b[0m\u001b[0mS_fa\u001b[0m \u001b[1;33m/\u001b[0m \u001b[1;33m(\u001b[0m\u001b[0mself\u001b[0m\u001b[1;33m.\u001b[0m\u001b[0mStoichiometric_parameters\u001b[0m\u001b[1;33m[\u001b[0m\u001b[1;34m'K_S_fa'\u001b[0m\u001b[1;33m]\u001b[0m \u001b[1;33m+\u001b[0m \u001b[0mS_fa\u001b[0m\u001b[1;33m)\u001b[0m\u001b[1;33m)\u001b[0m \u001b[1;33m*\u001b[0m \u001b[0mX_fa\u001b[0m \u001b[1;33m*\u001b[0m \u001b[0mI_7\u001b[0m  \u001b[1;31m# Uptake of LCFA (long-chain fatty acids)\u001b[0m\u001b[1;33m\u001b[0m\u001b[1;33m\u001b[0m\u001b[0m\n\u001b[0;32m    360\u001b[0m             \u001b[0mRho_8\u001b[0m \u001b[1;33m=\u001b[0m \u001b[0mself\u001b[0m\u001b[1;33m.\u001b[0m\u001b[0mStoichiometric_parameters\u001b[0m\u001b[1;33m[\u001b[0m\u001b[1;34m'k_m_c4'\u001b[0m\u001b[1;33m]\u001b[0m \u001b[1;33m*\u001b[0m \u001b[1;33m(\u001b[0m\u001b[0mS_va\u001b[0m \u001b[1;33m/\u001b[0m \u001b[1;33m(\u001b[0m\u001b[0mself\u001b[0m\u001b[1;33m.\u001b[0m\u001b[0mStoichiometric_parameters\u001b[0m\u001b[1;33m[\u001b[0m\u001b[1;34m'K_S_c4'\u001b[0m\u001b[1;33m]\u001b[0m \u001b[1;33m+\u001b[0m \u001b[0mS_va\u001b[0m\u001b[1;33m)\u001b[0m\u001b[1;33m)\u001b[0m \u001b[1;33m*\u001b[0m \u001b[0mX_c4\u001b[0m \u001b[1;33m*\u001b[0m \u001b[1;33m(\u001b[0m\u001b[0mS_va\u001b[0m \u001b[1;33m/\u001b[0m \u001b[1;33m(\u001b[0m\u001b[0mS_bu\u001b[0m \u001b[1;33m+\u001b[0m \u001b[0mS_va\u001b[0m\u001b[1;33m+\u001b[0m \u001b[1;36m1e-6\u001b[0m\u001b[1;33m)\u001b[0m\u001b[1;33m)\u001b[0m \u001b[1;33m*\u001b[0m \u001b[0mI_8\u001b[0m  \u001b[1;31m# Uptake of valerate\u001b[0m\u001b[1;33m\u001b[0m\u001b[1;33m\u001b[0m\u001b[0m\n\u001b[1;32m--> 361\u001b[1;33m             \u001b[0mRho_9\u001b[0m \u001b[1;33m=\u001b[0m \u001b[0mself\u001b[0m\u001b[1;33m.\u001b[0m\u001b[0mStoichiometric_parameters\u001b[0m\u001b[1;33m[\u001b[0m\u001b[1;34m'k_m_c4'\u001b[0m\u001b[1;33m]\u001b[0m \u001b[1;33m*\u001b[0m \u001b[1;33m(\u001b[0m\u001b[0mS_bu\u001b[0m \u001b[1;33m/\u001b[0m \u001b[1;33m(\u001b[0m\u001b[0mself\u001b[0m\u001b[1;33m.\u001b[0m\u001b[0mStoichiometric_parameters\u001b[0m\u001b[1;33m[\u001b[0m\u001b[1;34m'K_S_c4'\u001b[0m\u001b[1;33m]\u001b[0m \u001b[1;33m+\u001b[0m \u001b[0mS_bu\u001b[0m\u001b[1;33m)\u001b[0m\u001b[1;33m)\u001b[0m \u001b[1;33m*\u001b[0m \u001b[0mX_c4\u001b[0m \u001b[1;33m*\u001b[0m \u001b[1;33m(\u001b[0m\u001b[0mS_bu\u001b[0m \u001b[1;33m/\u001b[0m \u001b[1;33m(\u001b[0m\u001b[0mS_bu\u001b[0m \u001b[1;33m+\u001b[0m \u001b[0mS_va\u001b[0m\u001b[1;33m+\u001b[0m \u001b[1;36m1e-6\u001b[0m\u001b[1;33m)\u001b[0m\u001b[1;33m)\u001b[0m \u001b[1;33m*\u001b[0m \u001b[0mI_9\u001b[0m  \u001b[1;31m# Uptake of butyrate\u001b[0m\u001b[1;33m\u001b[0m\u001b[1;33m\u001b[0m\u001b[0m\n\u001b[0m\u001b[0;32m    362\u001b[0m             \u001b[0mRho_10\u001b[0m \u001b[1;33m=\u001b[0m \u001b[0mself\u001b[0m\u001b[1;33m.\u001b[0m\u001b[0mStoichiometric_parameters\u001b[0m\u001b[1;33m[\u001b[0m\u001b[1;34m'k_m_pro'\u001b[0m\u001b[1;33m]\u001b[0m \u001b[1;33m*\u001b[0m \u001b[1;33m(\u001b[0m\u001b[0mS_pro\u001b[0m \u001b[1;33m/\u001b[0m \u001b[1;33m(\u001b[0m\u001b[0mself\u001b[0m\u001b[1;33m.\u001b[0m\u001b[0mStoichiometric_parameters\u001b[0m\u001b[1;33m[\u001b[0m\u001b[1;34m'K_S_pro'\u001b[0m\u001b[1;33m]\u001b[0m \u001b[1;33m+\u001b[0m \u001b[0mS_pro\u001b[0m\u001b[1;33m)\u001b[0m\u001b[1;33m)\u001b[0m \u001b[1;33m*\u001b[0m \u001b[0mX_pro\u001b[0m \u001b[1;33m*\u001b[0m \u001b[0mI_10\u001b[0m  \u001b[1;31m# Uptake of propionate\u001b[0m\u001b[1;33m\u001b[0m\u001b[1;33m\u001b[0m\u001b[0m\n\u001b[0;32m    363\u001b[0m             \u001b[0mRho_12\u001b[0m \u001b[1;33m=\u001b[0m \u001b[0mself\u001b[0m\u001b[1;33m.\u001b[0m\u001b[0mStoichiometric_parameters\u001b[0m\u001b[1;33m[\u001b[0m\u001b[1;34m'k_m_h2'\u001b[0m\u001b[1;33m]\u001b[0m \u001b[1;33m*\u001b[0m \u001b[1;33m(\u001b[0m\u001b[0mS_h2\u001b[0m \u001b[1;33m/\u001b[0m \u001b[1;33m(\u001b[0m\u001b[0mself\u001b[0m\u001b[1;33m.\u001b[0m\u001b[0mStoichiometric_parameters\u001b[0m\u001b[1;33m[\u001b[0m\u001b[1;34m'K_S_h2'\u001b[0m\u001b[1;33m]\u001b[0m \u001b[1;33m+\u001b[0m \u001b[0mS_h2\u001b[0m\u001b[1;33m)\u001b[0m\u001b[1;33m)\u001b[0m \u001b[1;33m*\u001b[0m \u001b[0mX_h2\u001b[0m \u001b[1;33m*\u001b[0m \u001b[0mI_12\u001b[0m  \u001b[1;31m# Uptake of hydrogen\u001b[0m\u001b[1;33m\u001b[0m\u001b[1;33m\u001b[0m\u001b[0m\n",
      "\u001b[1;31mKeyboardInterrupt\u001b[0m: "
     ]
    }
   ],
   "source": [
    "mars = ADM1_instance(T_ad = 298.15, V_liq = 3400, V_gas = 300, p_atm = 1.013, q_ad = 0)\n",
    "solution, gasses, t = mars.dyn_sim(20.0, resolution = 100) #generate results from simulation, [gCOD/L], [Bar], [days]\n"
   ]
  },
  {
   "cell_type": "code",
   "execution_count": null,
   "metadata": {},
   "outputs": [],
   "source": [
    "#analyse results from simulation\n",
    "t_rover = [-1,0, 1, 8, 11, 13]\n",
    "CH4_observations = [3, 5.78, 15.5, 2.13, 5, 5] #ppbv\n",
    "Mars_atmosphere = [['Co2', 'N2', 'Ar', 'O2', 'CO', 'P'],[0.951, 0.0259, 0.0194, 0.0016, 0.008]]\n",
    "\n",
    "plt.figure()\n",
    "plt.title(f'Microbial species presumed to exist on Mars at {mars.T_ad}K.')\n",
    "for i in solution.keys()[14:27]:    \n",
    "    plt.plot(t, solution.loc[:,i], label = i)\n",
    "plt.ylabel(\"Biomass [gCOD/L]\")\n",
    "plt.xlabel(\"time [d]\")\n",
    "plt.legend()\n",
    "#plt.savefig(f'ADM1_raw_biomass_{T_ad}.png')\n",
    "\n",
    "P_gasses = ['P h2', 'P ch4', 'P H2S']\n",
    "advanced_gasses = gasses[P_gasses]\n",
    "advanced_gasses /= Mars_atmosphere[-1][-1] * 10e-9 #convert to ppbv \n",
    "\n",
    "plt.figure()\n",
    "plt.title(f\"Gas concentration at point source, T = {mars.T_ad}K.\")\n",
    "for i in P_gasses:\n",
    "    plt.plot(t[0:-1], advanced_gasses.loc[:,i], label = i)\n",
    "    \n",
    "plt.plot(t_rover, CH4_observations, 'o', label = 'CH4 data from curriosity rover')\n",
    "plt.ylabel(\"Gas [ppbv]\")\n",
    "plt.xlabel(\"time [d]\")\n",
    "plt.legend()\n",
    "#plt.savefig(f'ADM1_raw_gasses_{T_ad}.png')"
   ]
  },
  {
   "cell_type": "code",
   "execution_count": null,
   "metadata": {},
   "outputs": [],
   "source": [
    "data, r, dt = dilution(mars, gasses, CH4_observations, t, t_rover)\n",
    "\n",
    "plt.figure()\n",
    "print(fit(np.array(t.tolist()[:-1]), np.array(gasses['P ch4'].tolist()), (t_rover[1:]), CH4_observations))\n",
    "plt.plot(np.array(t.tolist()[:-1]), np.array(gasses['P ch4'].tolist()), label = 'simulation data')\n",
    "plt.plot((t_rover[1:]), CH4_observations[1:], '.', label = 'rover data')\n",
    "\n",
    "print(fit( np.array(t.tolist()), np.array(data['P ch4'].tolist()), (np.array(t_rover) + dt).round(2), CH4_observations))\n",
    "plt.plot(np.array(t.tolist()[1:]), np.array(data['P ch4'].tolist()), label = 'simulation data shifted')\n",
    "plt.plot((np.array(t_rover) + dt).round(2), CH4_observations, '.', label = 'rover data shifted')\n",
    "plt.legend()"
   ]
  },
  {
   "cell_type": "code",
   "execution_count": null,
   "metadata": {},
   "outputs": [],
   "source": []
  },
  {
   "cell_type": "code",
   "execution_count": null,
   "metadata": {},
   "outputs": [],
   "source": []
  }
 ],
 "metadata": {
  "kernelspec": {
   "display_name": "Python 3",
   "language": "python",
   "name": "python3"
  },
  "language_info": {
   "codemirror_mode": {
    "name": "ipython",
    "version": 3
   },
   "file_extension": ".py",
   "mimetype": "text/x-python",
   "name": "python",
   "nbconvert_exporter": "python",
   "pygments_lexer": "ipython3",
   "version": "3.8.3"
  }
 },
 "nbformat": 4,
 "nbformat_minor": 4
}
