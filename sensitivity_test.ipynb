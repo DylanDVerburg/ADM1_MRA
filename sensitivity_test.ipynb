{
 "cells": [
  {
   "cell_type": "code",
   "execution_count": 224,
   "metadata": {},
   "outputs": [],
   "source": [
    "def data_generator(info):\n",
    "    a = np.sin(np.array(info)) - np.cos(np.array(info))\n",
    "    a[4] = 1\n",
    "    return a\n",
    "\n",
    "def sensitivity(func, delta_variable, variable_to_delta = [-1]):\n",
    "    dy = np.empty(len(delta_variable))\n",
    "    delta_variable = np.array(delta_variable)\n",
    "    sim_range = np.linspace(0.25, 1.75, 8)\n",
    "    dx = sim_range[1] - sim_range[0]\n",
    "    \n",
    "    if max(variable_to_delta) > 0:\n",
    "        delta_matrix = np.ones(len(delta_variable))\n",
    "        for i in len(sim_range):\n",
    "            delta_matrix[variable_to_delta] *= sim_range\n",
    "            sim_range[i] = delta_matrix \n",
    "        print(sim_range)\n",
    "        \n",
    "    y = func(delta_variable * (sim_range[0]))\n",
    "    \n",
    "    for i in range(len(sim_range)-1):\n",
    "        new_y = func(delta_variable * (sim_range[i+1]))\n",
    "        y = np.c_[y, new_y]\n",
    "        \n",
    "        if i > 0:\n",
    "            #dy/dx\n",
    "            a = (y[:,i] - y[:, i+1])\n",
    "            b = (delta_variable[:] * sim_range[i] - delta_variable[:] * sim_range[i+1])\n",
    "            b = np.transpose(b)\n",
    "            \n",
    "            dy_var = (a / b)\n",
    "            print(np.shape(dy_var[0,:]))\n",
    "            dy = np.c_[dy, dy_var[0,:]]\n",
    "            \n",
    "    for p in range(len(delta_variable)):\n",
    "        plt.plot(sim_range[1:], dy[p,:], 'o', label = p,)\n",
    "    plt.legend()\n",
    "    print(dy[25,:], y[25])\n",
    "    \n",
    "    return sim_range, dy"
   ]
  },
  {
   "cell_type": "code",
   "execution_count": 225,
   "metadata": {},
   "outputs": [
    {
     "ename": "ValueError",
     "evalue": "non-broadcastable output operand with shape (1,) doesn't match the broadcast shape (8,)",
     "output_type": "error",
     "traceback": [
      "\u001b[1;31m---------------------------------------------------------------------------\u001b[0m",
      "\u001b[1;31mValueError\u001b[0m                                Traceback (most recent call last)",
      "\u001b[1;32m<ipython-input-225-09df3e3cc909>\u001b[0m in \u001b[0;36m<module>\u001b[1;34m\u001b[0m\n\u001b[0;32m      5\u001b[0m \u001b[0minfo\u001b[0m \u001b[1;33m=\u001b[0m \u001b[0mpd\u001b[0m\u001b[1;33m.\u001b[0m\u001b[0mread_csv\u001b[0m\u001b[1;33m(\u001b[0m\u001b[1;34m\"digester_initial.csv\"\u001b[0m\u001b[1;33m)\u001b[0m\u001b[1;33m\u001b[0m\u001b[1;33m\u001b[0m\u001b[0m\n\u001b[0;32m      6\u001b[0m \u001b[0minfo\u001b[0m \u001b[1;33m=\u001b[0m \u001b[0minfo\u001b[0m\u001b[1;33m.\u001b[0m\u001b[0mtranspose\u001b[0m\u001b[1;33m(\u001b[0m\u001b[1;33m)\u001b[0m\u001b[1;33m\u001b[0m\u001b[1;33m\u001b[0m\u001b[0m\n\u001b[1;32m----> 7\u001b[1;33m \u001b[0msensitivity\u001b[0m\u001b[1;33m(\u001b[0m\u001b[0mdata_generator\u001b[0m\u001b[1;33m,\u001b[0m \u001b[0minfo\u001b[0m\u001b[1;33m,\u001b[0m \u001b[1;33m[\u001b[0m\u001b[1;36m4\u001b[0m\u001b[1;33m]\u001b[0m\u001b[1;33m)\u001b[0m\u001b[1;33m\u001b[0m\u001b[1;33m\u001b[0m\u001b[0m\n\u001b[0m\u001b[0;32m      8\u001b[0m \u001b[0ma\u001b[0m\u001b[1;33m=\u001b[0m\u001b[1;36m1\u001b[0m\u001b[1;33m\u001b[0m\u001b[1;33m\u001b[0m\u001b[0m\n",
      "\u001b[1;32m<ipython-input-224-ab4ebd4da73e>\u001b[0m in \u001b[0;36msensitivity\u001b[1;34m(func, delta_variable, variable_to_delta)\u001b[0m\n\u001b[0;32m     12\u001b[0m     \u001b[1;32mif\u001b[0m \u001b[0mmax\u001b[0m\u001b[1;33m(\u001b[0m\u001b[0mvariable_to_delta\u001b[0m\u001b[1;33m)\u001b[0m \u001b[1;33m>\u001b[0m \u001b[1;36m0\u001b[0m\u001b[1;33m:\u001b[0m\u001b[1;33m\u001b[0m\u001b[1;33m\u001b[0m\u001b[0m\n\u001b[0;32m     13\u001b[0m         \u001b[0mdelta_matrix\u001b[0m \u001b[1;33m=\u001b[0m \u001b[0mnp\u001b[0m\u001b[1;33m.\u001b[0m\u001b[0mones\u001b[0m\u001b[1;33m(\u001b[0m\u001b[0mlen\u001b[0m\u001b[1;33m(\u001b[0m\u001b[0mdelta_variable\u001b[0m\u001b[1;33m)\u001b[0m\u001b[1;33m)\u001b[0m\u001b[1;33m\u001b[0m\u001b[1;33m\u001b[0m\u001b[0m\n\u001b[1;32m---> 14\u001b[1;33m         \u001b[0mdelta_matrix\u001b[0m\u001b[1;33m[\u001b[0m\u001b[0mvariable_to_delta\u001b[0m\u001b[1;33m]\u001b[0m \u001b[1;33m*=\u001b[0m \u001b[0msim_range\u001b[0m\u001b[1;33m\u001b[0m\u001b[1;33m\u001b[0m\u001b[0m\n\u001b[0m\u001b[0;32m     15\u001b[0m         \u001b[0msim_range\u001b[0m \u001b[1;33m=\u001b[0m \u001b[0mdelta_matrix\u001b[0m\u001b[1;33m\u001b[0m\u001b[1;33m\u001b[0m\u001b[0m\n\u001b[0;32m     16\u001b[0m         \u001b[0mprint\u001b[0m\u001b[1;33m(\u001b[0m\u001b[0msim_range\u001b[0m\u001b[1;33m)\u001b[0m\u001b[1;33m\u001b[0m\u001b[1;33m\u001b[0m\u001b[0m\n",
      "\u001b[1;31mValueError\u001b[0m: non-broadcastable output operand with shape (1,) doesn't match the broadcast shape (8,)"
     ]
    }
   ],
   "source": [
    "import numpy as np\n",
    "import pandas as pd\n",
    "import matplotlib.pyplot as plt\n",
    "\n",
    "info = pd.read_csv(\"digester_initial.csv\")\n",
    "info = info.transpose()\n",
    "sensitivity(data_generator, info, [4])\n",
    "a=1"
   ]
  },
  {
   "cell_type": "code",
   "execution_count": 220,
   "metadata": {},
   "outputs": [
    {
     "name": "stdout",
     "output_type": "stream",
     "text": [
      "[2 2 3 8]\n"
     ]
    }
   ],
   "source": [
    "a = np.array([1,2,3,4])\n",
    "b = a/2\n",
    "\n",
    "c = [0, 3]\n",
    "\n",
    "if max(c) > 0:\n",
    "    a[c]*=2\n",
    "    print(a)"
   ]
  },
  {
   "cell_type": "code",
   "execution_count": null,
   "metadata": {},
   "outputs": [],
   "source": []
  },
  {
   "cell_type": "code",
   "execution_count": null,
   "metadata": {},
   "outputs": [],
   "source": []
  }
 ],
 "metadata": {
  "kernelspec": {
   "display_name": "Python 3",
   "language": "python",
   "name": "python3"
  },
  "language_info": {
   "codemirror_mode": {
    "name": "ipython",
    "version": 3
   },
   "file_extension": ".py",
   "mimetype": "text/x-python",
   "name": "python",
   "nbconvert_exporter": "python",
   "pygments_lexer": "ipython3",
   "version": "3.8.3"
  }
 },
 "nbformat": 4,
 "nbformat_minor": 4
}
