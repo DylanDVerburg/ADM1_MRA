{
 "cells": [
  {
   "cell_type": "code",
   "execution_count": 587,
   "metadata": {},
   "outputs": [],
   "source": [
    "def data_generator(info):\n",
    "    a = np.sin(np.array(info)) - np.cos(np.array(info))\n",
    "    a[4] = 1\n",
    "    return a\n",
    "\n",
    "def sensitivity(func, delta_variable_ini, variable_to_delta = [-1], plot = False):\n",
    "    dy = np.empty(len(delta_variable_ini)) #gives problems if in y = f(x), N_y != N_x\n",
    "    \n",
    "    delta_variable = np.array(delta_variable_ini)\n",
    "    sim_range_ini = np.linspace(0.25, 1.75, 8)\n",
    "    dx = sim_range_ini[1] - sim_range_ini[0]\n",
    "    sim_range = np.empty(len(delta_variable))\n",
    "    \n",
    "    #make sure only a certain variable is changed, instead of all variables\n",
    "    delta_matrix = np.ones(len(delta_variable))\n",
    "    variable_names = delta_variable_ini.index.values[variable_to_delta]\n",
    "    \n",
    "    if max(variable_to_delta) < 0:\n",
    "        variable_to_delta = None\n",
    "        variable_names = \"all variables\"\n",
    "        print(\"simulating all\")\n",
    "    \n",
    "    for i in range(len(sim_range_ini)):\n",
    "        delta_matrix[variable_to_delta] *= sim_range_ini[i]\n",
    "        delta_variable_temp = np.multiply(delta_variable[:,0], delta_matrix)\n",
    "        sim_range = np.c_[sim_range, delta_variable_temp]\n",
    "    \n",
    "    #sim_range has ones as first column, this needs to be skipped\n",
    "    y = func(sim_range[:,1])\n",
    "    \n",
    "    for i in range(len(sim_range[0, 1:])):\n",
    "        new_y = func((sim_range[:,i]))\n",
    "        y = np.c_[y, new_y]\n",
    "        \n",
    "        if i > 0:\n",
    "            #dy/dx\n",
    "            a = (y[:,i] - y[:, i+1])\n",
    "            a = (y[:, i+1] - y[:, i]) / y[:, i]\n",
    "            b = (sim_range[:, i] - sim_range[:, i+1])\n",
    "            b = np.transpose(b)\n",
    "            \n",
    "            dy_var = (a )#/ b)\n",
    "            dy = np.c_[dy, dy_var[:]]\n",
    "    if(plot):\n",
    "        plt.figure()\n",
    "        plt.title(f'change in percentage of initial conditions [%] for changed {variable_names}')\n",
    "        for p in range(len(delta_variable)):\n",
    "            plt.plot(sim_range_ini[0:-1], dy[p,1:], 'o', label = p,)\n",
    "        plt.xlabel(f\"dx \")\n",
    "        plt.legend()\n",
    "        \n",
    "    return sim_range_ini, dy\n",
    "\n",
    "def fit(observed_data_x, observed_data_y, expected_data_x, expected_data_y):\n",
    "    #observed is from simulation\n",
    "    #expected is base truth\n",
    "    \n",
    "    chi_squared = 0\n",
    "    \n",
    "    for i in (expected_data_x):\n",
    "        a = float(observed_data_y[observed_data_x == i][0])\n",
    "        b = float(expected_data_y[expected_data_x == i])\n",
    "        chi_squared += (a -b)**2 / b\n",
    "    \n",
    "    return chi_squared\n",
    "    "
   ]
  },
  {
   "cell_type": "code",
   "execution_count": 589,
   "metadata": {},
   "outputs": [
    {
     "name": "stdout",
     "output_type": "stream",
     "text": [
      "16.764461258488076 chi\n"
     ]
    }
   ],
   "source": [
    "import numpy as np\n",
    "import pandas as pd\n",
    "import matplotlib.pyplot as plt\n",
    "\n",
    "info = pd.read_csv(\"digester_initial.csv\")\n",
    "info = info.transpose()\n",
    "sim, dy = sensitivity(data_generator, info, [5,6])\n",
    "\n",
    "#print(np.shape(sim), np.shape(dy))\n",
    "\n",
    "data = pd.read_csv(\"testbed_values.csv\")\n",
    "\n",
    "\n",
    "t_rover = np.array([-1.0, 0.0, 1.0, 8.0, 11.0, 13.0])\n",
    "CH4_observations = [3, 5.78, 15.5, 2.13, 5, 5] #ppbv\n",
    "t = 1\n",
    "observed = pd.DataFrame([t_rover + t , CH4_observations], ['x', 'y'])\n",
    "data_t = data.t.round(2)\n",
    "\n",
    "#print(observed.loc['x'])\n",
    "a = fit(np.array(data_t.tolist()), np.array(data.S_gas_ch4.tolist()), observed.loc['x'], observed.loc['y'])\n",
    "print(a, 'chi')"
   ]
  },
  {
   "cell_type": "code",
   "execution_count": 608,
   "metadata": {},
   "outputs": [
    {
     "ename": "TypeError",
     "evalue": "only integer scalar arrays can be converted to a scalar index",
     "output_type": "error",
     "traceback": [
      "\u001b[1;31m---------------------------------------------------------------------------\u001b[0m",
      "\u001b[1;31mTypeError\u001b[0m                                 Traceback (most recent call last)",
      "\u001b[1;32m<ipython-input-608-7ed7779e1a95>\u001b[0m in \u001b[0;36m<module>\u001b[1;34m\u001b[0m\n\u001b[0;32m      5\u001b[0m \u001b[0mt_shifted\u001b[0m \u001b[1;33m=\u001b[0m \u001b[0mnp\u001b[0m\u001b[1;33m.\u001b[0m\u001b[0marray\u001b[0m\u001b[1;33m(\u001b[0m\u001b[0mt_simulated\u001b[0m\u001b[1;33m)\u001b[0m \u001b[1;33m+\u001b[0m \u001b[1;33m(\u001b[0m\u001b[0mt_simulated\u001b[0m\u001b[1;33m[\u001b[0m\u001b[0msimulated\u001b[0m\u001b[1;33m.\u001b[0m\u001b[0mindex\u001b[0m\u001b[1;33m(\u001b[0m\u001b[0mmax\u001b[0m\u001b[1;33m(\u001b[0m\u001b[0msimulated\u001b[0m\u001b[1;33m)\u001b[0m\u001b[1;33m)\u001b[0m\u001b[1;33m]\u001b[0m \u001b[1;33m-\u001b[0m \u001b[0mt_simulated\u001b[0m\u001b[1;33m[\u001b[0m\u001b[0mobserved\u001b[0m\u001b[1;33m.\u001b[0m\u001b[0mindex\u001b[0m\u001b[1;33m(\u001b[0m\u001b[0mmax\u001b[0m\u001b[1;33m(\u001b[0m\u001b[0mobserved\u001b[0m\u001b[1;33m)\u001b[0m\u001b[1;33m)\u001b[0m\u001b[1;33m]\u001b[0m\u001b[1;33m)\u001b[0m\u001b[1;33m\u001b[0m\u001b[1;33m\u001b[0m\u001b[0m\n\u001b[0;32m      6\u001b[0m \u001b[1;33m\u001b[0m\u001b[0m\n\u001b[1;32m----> 7\u001b[1;33m \u001b[0mprint\u001b[0m\u001b[1;33m(\u001b[0m\u001b[0mfit\u001b[0m\u001b[1;33m(\u001b[0m\u001b[0mt_simulated\u001b[0m\u001b[1;33m,\u001b[0m \u001b[0msimulated\u001b[0m\u001b[1;33m,\u001b[0m \u001b[0mt_shifted\u001b[0m\u001b[1;33m,\u001b[0m \u001b[0mobserved\u001b[0m\u001b[1;33m)\u001b[0m\u001b[1;33m)\u001b[0m\u001b[1;33m\u001b[0m\u001b[1;33m\u001b[0m\u001b[0m\n\u001b[0m\u001b[0;32m      8\u001b[0m \u001b[0mplt\u001b[0m\u001b[1;33m.\u001b[0m\u001b[0mplot\u001b[0m\u001b[1;33m(\u001b[0m\u001b[0mt_shifted\u001b[0m\u001b[1;33m,\u001b[0m \u001b[0mobserved\u001b[0m\u001b[1;33m,\u001b[0m \u001b[0mlabel\u001b[0m \u001b[1;33m=\u001b[0m \u001b[1;34m'observed'\u001b[0m\u001b[1;33m)\u001b[0m\u001b[1;33m\u001b[0m\u001b[1;33m\u001b[0m\u001b[0m\n\u001b[0;32m      9\u001b[0m \u001b[0mplt\u001b[0m\u001b[1;33m.\u001b[0m\u001b[0mplot\u001b[0m\u001b[1;33m(\u001b[0m\u001b[0mt_simulated\u001b[0m\u001b[1;33m,\u001b[0m \u001b[0msimulated\u001b[0m\u001b[1;33m,\u001b[0m \u001b[0mlabel\u001b[0m \u001b[1;33m=\u001b[0m \u001b[1;34m'simulated'\u001b[0m\u001b[1;33m)\u001b[0m\u001b[1;33m\u001b[0m\u001b[1;33m\u001b[0m\u001b[0m\n",
      "\u001b[1;32m<ipython-input-587-9ffc04cffb31>\u001b[0m in \u001b[0;36mfit\u001b[1;34m(observed_data_x, observed_data_y, expected_data_x, expected_data_y)\u001b[0m\n\u001b[0;32m     59\u001b[0m \u001b[1;33m\u001b[0m\u001b[0m\n\u001b[0;32m     60\u001b[0m     \u001b[1;32mfor\u001b[0m \u001b[0mi\u001b[0m \u001b[1;32min\u001b[0m \u001b[1;33m(\u001b[0m\u001b[0mexpected_data_x\u001b[0m\u001b[1;33m)\u001b[0m\u001b[1;33m:\u001b[0m\u001b[1;33m\u001b[0m\u001b[1;33m\u001b[0m\u001b[0m\n\u001b[1;32m---> 61\u001b[1;33m         \u001b[0ma\u001b[0m \u001b[1;33m=\u001b[0m \u001b[0mfloat\u001b[0m\u001b[1;33m(\u001b[0m\u001b[0mobserved_data_y\u001b[0m\u001b[1;33m[\u001b[0m\u001b[0mobserved_data_x\u001b[0m \u001b[1;33m==\u001b[0m \u001b[0mi\u001b[0m\u001b[1;33m]\u001b[0m\u001b[1;33m[\u001b[0m\u001b[1;36m0\u001b[0m\u001b[1;33m]\u001b[0m\u001b[1;33m)\u001b[0m\u001b[1;33m\u001b[0m\u001b[1;33m\u001b[0m\u001b[0m\n\u001b[0m\u001b[0;32m     62\u001b[0m         \u001b[0mb\u001b[0m \u001b[1;33m=\u001b[0m \u001b[0mfloat\u001b[0m\u001b[1;33m(\u001b[0m\u001b[0mexpected_data_y\u001b[0m\u001b[1;33m[\u001b[0m\u001b[0mexpected_data_x\u001b[0m \u001b[1;33m==\u001b[0m \u001b[0mi\u001b[0m\u001b[1;33m]\u001b[0m\u001b[1;33m)\u001b[0m\u001b[1;33m\u001b[0m\u001b[1;33m\u001b[0m\u001b[0m\n\u001b[0;32m     63\u001b[0m         \u001b[0mchi_squared\u001b[0m \u001b[1;33m+=\u001b[0m \u001b[1;33m(\u001b[0m\u001b[0ma\u001b[0m \u001b[1;33m-\u001b[0m\u001b[0mb\u001b[0m\u001b[1;33m)\u001b[0m\u001b[1;33m**\u001b[0m\u001b[1;36m2\u001b[0m \u001b[1;33m/\u001b[0m \u001b[0mb\u001b[0m\u001b[1;33m\u001b[0m\u001b[1;33m\u001b[0m\u001b[0m\n",
      "\u001b[1;31mTypeError\u001b[0m: only integer scalar arrays can be converted to a scalar index"
     ]
    }
   ],
   "source": [
    "observed = [1,2,3,5,7,5,3,1]\n",
    "simulated = [1,1,1,2,3,5,7,5]\n",
    "t_simulated = [0,1,2,3,4,5,6,7]\n",
    "\n",
    "t_shifted = np.array(t_simulated) + (t_simulated[simulated.index(max(simulated))] - t_simulated[observed.index(max(observed))])\n",
    "\n",
    "print(fit(t_simulated, simulated, t_shifted, observed))\n",
    "plt.plot(t_shifted, observed, label = 'observed')\n",
    "plt.plot(t_simulated, simulated, label = 'simulated')\n",
    "plt.legend()"
   ]
  },
  {
   "cell_type": "code",
   "execution_count": null,
   "metadata": {},
   "outputs": [],
   "source": []
  },
  {
   "cell_type": "code",
   "execution_count": null,
   "metadata": {},
   "outputs": [],
   "source": []
  }
 ],
 "metadata": {
  "kernelspec": {
   "display_name": "Python 3",
   "language": "python",
   "name": "python3"
  },
  "language_info": {
   "codemirror_mode": {
    "name": "ipython",
    "version": 3
   },
   "file_extension": ".py",
   "mimetype": "text/x-python",
   "name": "python",
   "nbconvert_exporter": "python",
   "pygments_lexer": "ipython3",
   "version": "3.8.3"
  }
 },
 "nbformat": 4,
 "nbformat_minor": 4
}
