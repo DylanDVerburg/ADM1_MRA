{
 "cells": [
  {
   "cell_type": "code",
   "execution_count": 1,
   "metadata": {},
   "outputs": [],
   "source": [
    "%matplotlib inline\n",
    "\n",
    "import numpy as np\n",
    "import pandas as pd\n",
    "import matplotlib.pyplot as plt\n",
    "from ADM1_class import ADM1_instance\n",
    "from scipy import stats"
   ]
  },
  {
   "cell_type": "code",
   "execution_count": 64,
   "metadata": {},
   "outputs": [],
   "source": [
    "def Chi_Squared(observed_data_x, observed_data_y, expected_data_x, expected_data_y):\n",
    "    #observed is from simulation\n",
    "    observed_data_x = np.array(observed_data_x) \n",
    "    observed_data_y = np.array(observed_data_y)\n",
    "    \n",
    "    #expected is base truth\n",
    "    expected_data_x = np.array(expected_data_x) \n",
    "    expected_data_y = np.array(expected_data_y)\n",
    "\n",
    "    dof = -1\n",
    "    chi_squared = 0\n",
    "    for i in (expected_data_x):\n",
    "        a = observed_data_y[np.where(observed_data_x == i)[0][0]]\n",
    "        b = expected_data_y[np.where(expected_data_x == i)[0][0]]\n",
    "        \n",
    "        dof +=1\n",
    "        chi_squared += (a - b)**2 / (b)\n",
    "    p = 1 - stats.chi2.cdf(chi_squared, dof)\n",
    "    \n",
    "    return chi_squared, dof, p\n",
    "\n",
    "def dilution(instance, data_simulation, data_observation, t_simulation, t_observation):\n",
    "    #other process producing baseline methane\n",
    "    #simple dilution using a half sphere to compare the found concentration to the simulated concentration a distance away from the source\n",
    "    v1 = instance.V_gas \n",
    "    c1 = data_simulation['P_ch4'].max() #-  data_simulation['P ch4'].min() #amplitude of this data\n",
    "    t_sim_temp = data_simulation[data_simulation['P_ch4'] == data_simulation['P_ch4'].max()].index.values\n",
    "    c1_t = t_simulation[t_sim_temp]#time of maximum simulated data\n",
    "    \n",
    "    c2 = max(data_observation)# - min(data_observation) #amplitude of this data\n",
    "    c2_t = t_observation[data_observation.index(max(data_observation))] #index of maximum observed data\n",
    "    \n",
    "    r = ((3 * c1 * v1) /( 8* np.pi * c2))**(1/3) #calculate distance based on half dome dilution [m]\n",
    "    v2 = r**3 * 8/3 * np.pi #volume of second half sphere used to recalculate other gas concentrations [m^3]\n",
    "     \n",
    "    #time shift\n",
    "    time_shift = abs(c1_t - c2_t) #this calculated the difference in time between the peaks of the observed and measured data\n",
    "    \n",
    "    new_data_simulation = data_simulation * (v1/v2) #calculate other gas concentrations\n",
    "    \n",
    "    return new_data_simulation, r, time_shift\n",
    "\n",
    "def Monte_carlo(reactor, func, x_avr, x_std, sims, ref_x, ref_y):\n",
    "    solutions = [] #p, r\n",
    "    shots = []\n",
    "    #Monte Carlo error analysis    \n",
    "    x_avr_np = x_avr\n",
    "    x_avr_np = np.array(x_avr_np)\n",
    "    \n",
    "    for i in range(sims):\n",
    "        #pick new uncertain x members\n",
    "        x_MC = (x_avr_np.transpose() + (x_std * np.random.randn(len(x_avr)))).transpose()\n",
    "        shots.append(x_MC)\n",
    "        \n",
    "        #find new y values with new x this is specific for the ADM1 based function\n",
    "        y_MC = func(reactor, ref_x, x_MC)\n",
    "        \n",
    "        #find new coefficient\n",
    "        #eddited_data = dilution(instance, data_simulation, data_observation, t_simulation, t_observation)\n",
    "        \n",
    "        solutions.append(y_MC)\n",
    "        print(\"run\", i)\n",
    "    \n",
    "    #calculate mean and stdev of Monte Carlo results\n",
    "    return solutions, np.array(shots)\n",
    "\n",
    "def analyse(reactor, t, x):\n",
    "    #this function is used to wrangle the variables into a format suitable for both the ADM1 class, and the statistical tests\n",
    "    \n",
    "    #set new numbers\n",
    "    reactor.V_liq = x[-2]\n",
    "    reactor.V_gas = x[-1]\n",
    "    \n",
    "    reactor.inital_states = pd.DataFrame(x_avr[:-2], index = reactor.initial_state.keys())\n",
    "\n",
    "    #generate results\n",
    "    solution, gasses, t_sim = reactor.dyn_sim(t.max() + 5, resolution = 100, feedback = False) #generate results from simulation, [gCOD/L], [Bar], [days]\n",
    "    P_gasses = ['P_h2', 'P_ch4', 'P_H2S']\n",
    "    advanced_gasses = gasses[P_gasses]\n",
    "    advanced_gasses /= Mars_atmosphere[-1][-1] * 10e-9 #convert to ppbv \n",
    "    data, r, dt = dilution(reactor, advanced_gasses, CH4_observations, t_sim, t_rover)\n",
    "    a = Chi_Squared(np.array(t_sim.tolist())[:-1], data.P_ch4, observed.loc['x'], observed.loc['y'])  \n",
    "    \n",
    "    return a[0], r, a[2]\n",
    "\n",
    "def parse_data_to_file(filename, results):\n",
    "    #this method allows data to be added to a file. This enables multiple runs of the montecarlo analysis to be performed independantly of machine stability by offloading RAM usage into permanent storage.\n",
    "    try:\n",
    "        file_original = pd.read_csv(filename)\n",
    "        file = file_original.append(results, ignore_index=True)\n",
    "        print(\"Filename found, appending.\")\n",
    "        \n",
    "    except:  \n",
    "        file = results\n",
    "        print(\"No file found, creating new file.\")\n",
    "    \n",
    "    file.to_csv((filename), index = False)\n",
    "    "
   ]
  },
  {
   "cell_type": "code",
   "execution_count": 65,
   "metadata": {},
   "outputs": [],
   "source": [
    "mars_instance = ADM1_instance(T_ad = 298.15, V_liq = 3400, V_gas = 300, p_atm = 1.013, q_ad = 0) #[K], [m^3], [m^3], [bar], [m^3/ d]\n",
    "\n",
    "#Mars peak data\n",
    "t_rover = [-1,0, 1, 8, 11, 13]\n",
    "CH4_observations = [3, 5.78, 15.5, 2.13, 5, 5] #ppbv\n",
    "Mars_atmosphere = [['Co2', 'N2', 'Ar', 'O2', 'CO', 'P'],[0.951, 0.0259, 0.0194, 0.0016, 0.008]]\n",
    "observed = pd.DataFrame([np.array(t_rover) + 1 , CH4_observations], ['x', 'y'])\n",
    "\n",
    "#define montecarlo avarages in an array\n",
    "x_avr = mars_instance.initial_state.transpose().iloc[:,0].to_list()[:]\n",
    "x_avr.append(mars_instance.V_liq)\n",
    "x_avr.append(mars_instance.V_gas)\n",
    "\n",
    "#define standart deviation as 1/4th the magnitude of the avarage\n",
    "x_std = np.array(x_avr) / 4"
   ]
  },
  {
   "cell_type": "code",
   "execution_count": null,
   "metadata": {},
   "outputs": [],
   "source": [
    "#start analysis\n",
    "#do 'sims' iterations of the ADM1 simulation with different initial values, and write the reults to 'file_name'\n",
    "file_name = \"results.csv\"\n",
    "\n",
    "sims = 20\n",
    "ans = Monte_carlo(mars_instance, analyse, x_avr, x_std, sims, observed.loc['x'], observed.loc['y'])\n",
    "results = pd.DataFrame(ans[0], columns =['Chi-value', 'r', 'p_value'])\n",
    "\n",
    "parse_data_to_file(file_name, results)"
   ]
  },
  {
   "cell_type": "code",
   "execution_count": 79,
   "metadata": {},
   "outputs": [
    {
     "data": {
      "image/png": "[encoded data removed]",
      "text/plain": [
       "<Figure size 432x288 with 1 Axes>"
      ]
     },
     "metadata": {
      "needs_background": "light"
     },
     "output_type": "display_data"
    },
    {
     "data": {
      "image/png": "[encoded data removed]",
      "text/plain": [
       "<Figure size 432x288 with 1 Axes>"
      ]
     },
     "metadata": {
      "needs_background": "light"
     },
     "output_type": "display_data"
    }
   ],
   "source": [
    "shots = np.array(ans[1])\n",
    "plt.figure()\n",
    "a = plt.hist(shots[:,1], bins = 10)\n",
    "plt.figure()\n",
    "a = plt.hist(results.p_value, bins = 100)"
   ]
  },
  {
   "cell_type": "code",
   "execution_count": null,
   "metadata": {},
   "outputs": [],
   "source": []
  }
 ],
 "metadata": {
  "kernelspec": {
   "display_name": "Python 3",
   "language": "python",
   "name": "python3"
  },
  "language_info": {
   "codemirror_mode": {
    "name": "ipython",
    "version": 3
   },
   "file_extension": ".py",
   "mimetype": "text/x-python",
   "name": "python",
   "nbconvert_exporter": "python",
   "pygments_lexer": "ipython3",
   "version": "3.8.3"
  }
 },
 "nbformat": 4,
 "nbformat_minor": 4
}
